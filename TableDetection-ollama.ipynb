{
 "cells": [
  {
   "cell_type": "code",
   "execution_count": 3,
   "metadata": {},
   "outputs": [
    {
     "name": "stdout",
     "output_type": "stream",
     "text": [
      "Requirement already satisfied: ollama in /Users/johri/miniconda3/lib/python3.11/site-packages (0.3.3)\n",
      "Requirement already satisfied: httpx<0.28.0,>=0.27.0 in /Users/johri/miniconda3/lib/python3.11/site-packages (from ollama) (0.27.0)\n",
      "Requirement already satisfied: anyio in /Users/johri/miniconda3/lib/python3.11/site-packages (from httpx<0.28.0,>=0.27.0->ollama) (4.3.0)\n",
      "Requirement already satisfied: certifi in /Users/johri/miniconda3/lib/python3.11/site-packages (from httpx<0.28.0,>=0.27.0->ollama) (2024.2.2)\n",
      "Requirement already satisfied: httpcore==1.* in /Users/johri/miniconda3/lib/python3.11/site-packages (from httpx<0.28.0,>=0.27.0->ollama) (1.0.4)\n",
      "Requirement already satisfied: idna in /Users/johri/miniconda3/lib/python3.11/site-packages (from httpx<0.28.0,>=0.27.0->ollama) (3.4)\n",
      "Requirement already satisfied: sniffio in /Users/johri/miniconda3/lib/python3.11/site-packages (from httpx<0.28.0,>=0.27.0->ollama) (1.3.1)\n",
      "Requirement already satisfied: h11<0.15,>=0.13 in /Users/johri/miniconda3/lib/python3.11/site-packages (from httpcore==1.*->httpx<0.28.0,>=0.27.0->ollama) (0.14.0)\n"
     ]
    }
   ],
   "source": [
    "!pip install ollama"
   ]
  },
  {
   "cell_type": "code",
   "execution_count": null,
   "metadata": {},
   "outputs": [],
   "source": [
    "ollama.pull(\"mistral\")"
   ]
  },
  {
   "cell_type": "code",
   "execution_count": 2,
   "metadata": {},
   "outputs": [
    {
     "name": "stdout",
     "output_type": "stream",
     "text": [
      "Table Inference:\n",
      "  {\n",
      "       \"Table Interpretation\": {\n",
      "           \"Title\": \"Quarterly Sales Report\",\n",
      "           \"Structure\": \"A table with four columns: 'Product ID', 'Product Name', 'Region', and 'Sales Data'. The 'Sales Data' column is further nested, containing sub-columns 'Quarter', 'Units Sold', and 'Revenue ($)'.\",\n",
      "           \"Content Summary\": {\n",
      "               \"Data Points\": \"Three data points, each representing a product (Laptop Pro 15, Smartphone X, Tablet S), their region of sale, and quarterly sales data for each product.\",\n",
      "               \"Notable Columns\": [\"Product ID\", \"Product Name\", \"Region\", \"Quarter\", \"Units Sold\", \"Revenue ($)\"],\n",
      "               \"Trends\": \"Increasing trend in the number of units sold and revenue over the quarters for all products. The 'Laptop Pro 15' has the highest sales in terms of both units and revenue.\"\n",
      "           },\n",
      "           \"Relationships\": {\n",
      "               \"Columns Relation\": \"'Product ID' and 'Product Name' are related to the nested 'Sales Data'. The 'Region' column provides geographical context for the product sales.\",\n",
      "               \"Correlations or Hierarchies\": \"No clear correlations or hierarchies were found, but there is a trend of increasing sales over the quarters.\"\n",
      "           },\n",
      "           \"Metadata and Nested Structures\": {\n",
      "               \"Purpose\": \"The nested 'Sales Data' structure provides detailed quarterly sales information for each product.\",\n",
      "               \"Contribution to Context\": \"It enriches the table by offering a time-series analysis of the products' performance in different regions.\"\n",
      "           }\n",
      "       }\n",
      "   }\n"
     ]
    }
   ],
   "source": [
    "import ollama\n",
    "import json\n",
    "\n",
    "#    4. If there are positional markers or other structural metadata (like \"start_row\", \"end_row\", \"start_col\", \"end_col\"), explain how they contribute to understanding the table’s layout.\n",
    "    # 2. Identify the primary elements that represent rows, columns, and cell content. Explain what each element represents and how the table data is organized.\n",
    "\n",
    "def infer_table_with_ollama(table_json):\n",
    "    prompt_content = f\"\"\"\n",
    "                You are given a table represented in JSON format. Your task is to interpret the table, which may have varied structures and schemas.\n",
    "\n",
    "                Guidelines:\n",
    "                1. Analyze the table structure: Identify the columns, data types (numeric, categorical, text), and overall organization.\n",
    "                2. Summarize the key information: Describe the main content, highlight important columns, and identify any notable patterns or trends in the data.\n",
    "                3. Infer relationships: Explain how columns relate to each other, and if possible, identify any correlations or hierarchical information present.\n",
    "                4. Handle metadata and nested structures: If there is additional metadata or nested elements, infer their purpose and how they contribute to the table's context.\n",
    "\n",
    "                Here is the JSON table:\n",
    "\n",
    "                {json.dumps(table_json, indent=4)}\n",
    "\n",
    "                Provide a concise interpretation of the table, including its structure, content summary, and any relevant insights. The response should be formatted in JSON.\n",
    "            \"\"\"\n",
    "    \n",
    "\n",
    "    messages = [\n",
    "        {\"role\": \"user\", \"content\": prompt_content}\n",
    "    ]\n",
    "\n",
    "    response = ollama.chat(model=\"mistral\", messages=messages)\n",
    "\n",
    "    return response['message']['content']\n",
    "\n",
    "file_path = '/Users/johri/Projects/JnJ capstone/table detection/SciTSR/train/structure/0705.0450v1.4.json'\n",
    "with open(file_path, 'r') as file:\n",
    "    table_json = json.load(file)\n",
    "    table_json = {\n",
    "  \"table\": {\n",
    "    \"title\": \"Quarterly Sales Report\",\n",
    "    \"columns\": [\"Product ID\", \"Product Name\", \"Region\", \"Sales Data\"],\n",
    "    \"data\": [\n",
    "      {\n",
    "        \"Product ID\": \"101\",\n",
    "        \"Product Name\": \"Laptop Pro 15\",\n",
    "        \"Region\": \"North America\",\n",
    "        \"Sales Data\": {\n",
    "          \"Quarter\": [\"Q1\", \"Q2\", \"Q3\", \"Q4\"],\n",
    "          \"Units Sold\": [150, 200, 180, 220],\n",
    "          \"Revenue ($)\": [300000, 400000, 360000, 440000]\n",
    "        }\n",
    "      },\n",
    "      {\n",
    "        \"Product ID\": \"102\",\n",
    "        \"Product Name\": \"Smartphone X\",\n",
    "        \"Region\": \"Europe\",\n",
    "        \"Sales Data\": {\n",
    "          \"Quarter\": [\"Q1\", \"Q2\", \"Q3\", \"Q4\"],\n",
    "          \"Units Sold\": [500, 600, 550, 650],\n",
    "          \"Revenue ($)\": [250000, 300000, 275000, 325000]\n",
    "        }\n",
    "      },\n",
    "      {\n",
    "        \"Product ID\": \"103\",\n",
    "        \"Product Name\": \"Tablet S\",\n",
    "        \"Region\": \"Asia\",\n",
    "        \"Sales Data\": {\n",
    "          \"Quarter\": [\"Q1\", \"Q2\", \"Q3\", \"Q4\"],\n",
    "          \"Units Sold\": [300, 350, 330, 370],\n",
    "          \"Revenue ($)\": [150000, 175000, 165000, 185000]\n",
    "        }\n",
    "      }\n",
    "    ]\n",
    "  }\n",
    "}\n",
    "\n",
    "\n",
    "table_inference = infer_table_with_ollama(table_json)\n",
    "print(\"Table Inference:\\n\", table_inference)"
   ]
  },
  {
   "cell_type": "code",
   "execution_count": null,
   "metadata": {},
   "outputs": [],
   "source": []
  }
 ],
 "metadata": {
  "kernelspec": {
   "display_name": "base",
   "language": "python",
   "name": "python3"
  },
  "language_info": {
   "codemirror_mode": {
    "name": "ipython",
    "version": 3
   },
   "file_extension": ".py",
   "mimetype": "text/x-python",
   "name": "python",
   "nbconvert_exporter": "python",
   "pygments_lexer": "ipython3",
   "version": "3.11.8"
  }
 },
 "nbformat": 4,
 "nbformat_minor": 2
}
